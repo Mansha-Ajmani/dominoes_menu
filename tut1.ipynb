{
  "nbformat": 4,
  "nbformat_minor": 0,
  "metadata": {
    "colab": {
      "provenance": [],
      "authorship_tag": "ABX9TyNMg1gfHx5o+tJmAO3omBIW",
      "include_colab_link": true
    },
    "kernelspec": {
      "name": "python3",
      "display_name": "Python 3"
    },
    "language_info": {
      "name": "python"
    }
  },
  "cells": [
    {
      "cell_type": "markdown",
      "metadata": {
        "id": "view-in-github",
        "colab_type": "text"
      },
      "source": [
        "<a href=\"https://colab.research.google.com/github/Mansha-Ajmani/dominoes_menu/blob/master/tut1.ipynb\" target=\"_parent\"><img src=\"https://colab.research.google.com/assets/colab-badge.svg\" alt=\"Open In Colab\"/></a>"
      ]
    },
    {
      "cell_type": "code",
      "execution_count": null,
      "metadata": {
        "colab": {
          "base_uri": "https://localhost:8080/"
        },
        "id": "48gCgDJSlUHB",
        "outputId": "1669a6ba-4b97-442e-eb37-6451df345e41"
      },
      "outputs": [
        {
          "output_type": "stream",
          "name": "stdout",
          "text": [
            "Twinkle, twinkle little star,\n",
            "How I wonder what you are!\n",
            "Up above the world so high,\n",
            "Like a diamond in the sky.\n",
            "Twinkle, twinkle little star,\n",
            "How I wonder what you are.\n"
          ]
        }
      ],
      "source": [
        "# sol 1\n",
        "print(\"Twinkle, twinkle little star,\\nHow I wonder what you are!\\nUp above the world so high,\\nLike a diamond in the sky.\\nTwinkle, twinkle little star,\\nHow I wonder what you are.\")"
      ]
    },
    {
      "cell_type": "code",
      "source": [
        "# sol 2\n",
        "first=input(\"enter your first name:\")\n",
        "last= input(\"enter your last name:\")\n",
        "print(last+\" \"+first)"
      ],
      "metadata": {
        "colab": {
          "base_uri": "https://localhost:8080/"
        },
        "id": "bTlierwApAv_",
        "outputId": "d778adc2-e086-4c63-8f3c-af1101add102"
      },
      "execution_count": null,
      "outputs": [
        {
          "output_type": "stream",
          "name": "stdout",
          "text": [
            "enter your first name:mansha\n",
            "enter your last name:ajmani\n",
            "ajmani mansha\n"
          ]
        }
      ]
    },
    {
      "cell_type": "code",
      "source": [
        "# sol 3\n",
        "import math\n",
        "r=int(input(\"enter radius;\"))\n",
        "area=math.pi*r*r\n",
        "print(area)"
      ],
      "metadata": {
        "colab": {
          "base_uri": "https://localhost:8080/"
        },
        "id": "8dwrvWF2pEnj",
        "outputId": "1476de81-261d-4365-db31-581353b7da0d"
      },
      "execution_count": null,
      "outputs": [
        {
          "output_type": "stream",
          "name": "stdout",
          "text": [
            "enter radius;7\n",
            "153.93804002589985\n"
          ]
        }
      ]
    },
    {
      "cell_type": "code",
      "source": [
        "# sol 4\n",
        "color_list = [\"Red\",\"Green\",\"White\" ,\"Black\"]\n",
        "print(\"first color in the list is:\",color_list[0])\n",
        "print(\"last color in the list is:\",color_list[3])"
      ],
      "metadata": {
        "colab": {
          "base_uri": "https://localhost:8080/"
        },
        "id": "Nlc3e9BDqS9V",
        "outputId": "42fa7bf5-3cb5-465c-f4ba-e75655852a73"
      },
      "execution_count": null,
      "outputs": [
        {
          "output_type": "stream",
          "name": "stdout",
          "text": [
            "first color in the list is: Red\n",
            "last color in the list is: Black\n"
          ]
        }
      ]
    },
    {
      "cell_type": "code",
      "source": [
        "# sol 5\n",
        "n=int(input(\"enter a no:\"))\n",
        "nn=n*n\n",
        "nnn=nn*n\n",
        "print(\"n+nn+nnn=\",n+nn+nnn)"
      ],
      "metadata": {
        "colab": {
          "base_uri": "https://localhost:8080/"
        },
        "id": "2mVcQYgusy0R",
        "outputId": "daf44c54-04d2-41a7-c24a-56e799903c98"
      },
      "execution_count": null,
      "outputs": [
        {
          "output_type": "stream",
          "name": "stdout",
          "text": [
            "enter a no:5\n",
            "n+nn+nnn= 155\n"
          ]
        }
      ]
    },
    {
      "cell_type": "code",
      "source": [
        "# sol 6\n",
        "seq=input(\"enter a seq of characters:\")\n",
        "x=seq.split(',')\n",
        "print(\"given seq can be written in the form of list as:\",list(x))\n",
        "print(\"given seq can be written in the form of tuple as:\",tuple(x))"
      ],
      "metadata": {
        "colab": {
          "base_uri": "https://localhost:8080/"
        },
        "id": "VklVAbQ_mhjI",
        "outputId": "692f1e3b-c5fb-4978-fb4e-5c034e0a6a02"
      },
      "execution_count": null,
      "outputs": [
        {
          "output_type": "stream",
          "name": "stdout",
          "text": [
            "enter a seq of characters:5,7,10,123\n",
            "given seq can be written in the form of list as: ['5', '7', '10', '123']\n",
            "given seq can be written in the form of tuple as: ('5', '7', '10', '123')\n"
          ]
        }
      ]
    },
    {
      "cell_type": "code",
      "source": [
        "# sol 7\n",
        "cel=float(input(\"enter temp in celcius:\"))\n",
        "fah=(cel*(9/5))+32\n",
        "print(\"this temp in fahr will be:\",fah)"
      ],
      "metadata": {
        "colab": {
          "base_uri": "https://localhost:8080/"
        },
        "id": "tRUoHzeNt2Jv",
        "outputId": "f30abc3f-805f-4878-b6ce-0b16f6a5cd44"
      },
      "execution_count": null,
      "outputs": [
        {
          "output_type": "stream",
          "name": "stdout",
          "text": [
            "enter temp in celcius:35\n",
            "this temp in fahr will be: 95.0\n"
          ]
        }
      ]
    },
    {
      "cell_type": "code",
      "source": [
        "# sol 8\n",
        "n=int(input(\"enter 1st no:\"))\n",
        "m=int(input(\"enter 2nd no:\"))\n",
        "x=n\n",
        "n=m\n",
        "print(\"after swapping 1st no. is:\",n,\"and 2nd no. is:\",x)\n",
        "print(\"on adding incrementally in 1st var we get:\",x+1)"
      ],
      "metadata": {
        "colab": {
          "base_uri": "https://localhost:8080/"
        },
        "id": "nRbn4RiLvp3d",
        "outputId": "91c943c3-ab77-4a00-dcf8-4adef4e5667a"
      },
      "execution_count": null,
      "outputs": [
        {
          "output_type": "stream",
          "name": "stdout",
          "text": [
            "enter 1st no:5\n",
            "enter 2nd no:10\n",
            "after swapping 1st no. is: 10 and 2nd no. is: 5\n",
            "on adding incrementally in 1st var we get: 6\n"
          ]
        }
      ]
    },
    {
      "cell_type": "code",
      "source": [
        "# sol 9\n",
        "n=int(input(\"enter a no:\"))\n",
        "if n%2==0:\n",
        "    print(\"given no. is even\")\n",
        "else:\n",
        "    print(\"given no. is odd\")"
      ],
      "metadata": {
        "colab": {
          "base_uri": "https://localhost:8080/"
        },
        "id": "Pwh4vce8pA96",
        "outputId": "20f1ae16-03f5-4bde-acf4-490930dfe180"
      },
      "execution_count": null,
      "outputs": [
        {
          "output_type": "stream",
          "name": "stdout",
          "text": [
            "enter a no:7\n",
            "given no. is odd\n"
          ]
        }
      ]
    },
    {
      "cell_type": "code",
      "source": [
        "# sol 10\n",
        "yr=int(input(\"enter any year:\"))\n",
        "if yr%4==0:\n",
        "  print(\"leap year\")\n",
        "else:\n",
        "  print(\"not a leap year\")"
      ],
      "metadata": {
        "colab": {
          "base_uri": "https://localhost:8080/"
        },
        "id": "Gf4dA2VJpAvD",
        "outputId": "ae1e2517-5556-4429-d0b3-f6f36280894d"
      },
      "execution_count": null,
      "outputs": [
        {
          "output_type": "stream",
          "name": "stdout",
          "text": [
            "enter any year:2024\n",
            "leap year\n"
          ]
        }
      ]
    },
    {
      "cell_type": "code",
      "source": [
        "# sol 11\n",
        "import math\n",
        "x1 = float(input(\"Enter x1: \"))\n",
        "y1 = float(input(\"Enter y1: \"))\n",
        "x2 = float(input(\"Enter x2: \"))\n",
        "y2 = float(input(\"Enter y2: \"))\n",
        "distance = math.sqrt((x2 - x1)**2 + (y2 - y1)**2)\n",
        "print(\"The Euclidean distance between the points is:\", distance)"
      ],
      "metadata": {
        "colab": {
          "base_uri": "https://localhost:8080/"
        },
        "id": "GoVToydLpAaG",
        "outputId": "b9da818d-3a1c-42aa-a034-cf78e8f1b0ab"
      },
      "execution_count": null,
      "outputs": [
        {
          "output_type": "stream",
          "name": "stdout",
          "text": [
            "Enter x1: 5\n",
            "Enter y1: 2\n",
            "Enter x2: 10\n",
            "Enter y2: 4\n",
            "The Euclidean distance between the points is: 5.385164807134504\n"
          ]
        }
      ]
    },
    {
      "cell_type": "code",
      "source": [
        "# sol 12\n",
        "x=float(input(\"enter 1st angle:\"))\n",
        "y=float(input(\"enter 2nd angle:\"))\n",
        "z=float(input(\"enter 3rd angle:\"))\n",
        "if x+y+z==180:\n",
        "  print(\"triangle is possible\")\n",
        "else:\n",
        "  print(\"triangle is not possible\")"
      ],
      "metadata": {
        "colab": {
          "base_uri": "https://localhost:8080/"
        },
        "id": "QjJQtmqCpAH3",
        "outputId": "ea49b53e-0b39-4615-c38d-66a2324aff86"
      },
      "execution_count": null,
      "outputs": [
        {
          "output_type": "stream",
          "name": "stdout",
          "text": [
            "enter 1st angle:120\n",
            "enter 2nd angle:30\n",
            "enter 3rd angle:40\n",
            "triangle is not possible\n"
          ]
        }
      ]
    },
    {
      "cell_type": "code",
      "source": [
        "# sol 13\n",
        "principal = float(input(\"Enter the principal amount: \"))\n",
        "rate = float(input(\"Enter the annual interest rate (in %): \"))\n",
        "time = float(input(\"Enter the time in years: \"))\n",
        "n = int(input(\"Enter the number of times interest is compounded per year: \"))\n",
        "amount = principal * (1 + rate / (100 * n)) ** (n * time)\n",
        "print(\"compound interest=\",amount-principal)\n",
        "print(\"total amount=\",amount)"
      ],
      "metadata": {
        "colab": {
          "base_uri": "https://localhost:8080/"
        },
        "id": "b-eszFdKr4PZ",
        "outputId": "e87df7b2-a4ea-42c2-ffb4-6ffe5c51300c"
      },
      "execution_count": null,
      "outputs": [
        {
          "output_type": "stream",
          "name": "stdout",
          "text": [
            "Enter the principal amount: 10000\n",
            "Enter the annual interest rate (in %): 7\n",
            "Enter the time in years: 10\n",
            "Enter the number of times interest is compounded per year: 2\n",
            "compound interest= 9897.88863465843\n",
            "total amount= 19897.88863465843\n"
          ]
        }
      ]
    },
    {
      "cell_type": "code",
      "source": [
        "# sol 14\n",
        "N=int(input(\"enter a no:\"))\n",
        "if N > 1:\n",
        "    for i in range(2, N):\n",
        "        if N % i == 0:\n",
        "            print(N, \"is NOT a Prime Number\")\n",
        "            break\n",
        "    else:\n",
        "        print(N, \"is a Prime Number\")\n",
        "else:\n",
        "    print(N, \"is NOT a Prime Number\")"
      ],
      "metadata": {
        "colab": {
          "base_uri": "https://localhost:8080/"
        },
        "id": "XrixYFvYr6pe",
        "outputId": "a57d123e-bd41-48a9-d909-1467de06c1e7"
      },
      "execution_count": null,
      "outputs": [
        {
          "output_type": "stream",
          "name": "stdout",
          "text": [
            "enter a no:7\n",
            "7 is a Prime Number\n"
          ]
        }
      ]
    },
    {
      "cell_type": "code",
      "source": [
        "# sol 15\n",
        "n=int(input(\"enter a no:\"))\n",
        "sq=0\n",
        "for i in range(1,n+1):\n",
        "  sq+=i**2\n",
        "print(\"sum of sqs of all the nos till n is:\",sq)"
      ],
      "metadata": {
        "colab": {
          "base_uri": "https://localhost:8080/"
        },
        "id": "YWahiA63r-Y2",
        "outputId": "3dc8520e-b83a-459b-e053-dde1a6225186"
      },
      "execution_count": null,
      "outputs": [
        {
          "output_type": "stream",
          "name": "stdout",
          "text": [
            "enter a no:5\n",
            "ssum of sqs of all the nos till n is: 55\n"
          ]
        }
      ]
    }
  ]
}